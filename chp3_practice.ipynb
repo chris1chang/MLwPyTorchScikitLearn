{
 "cells": [
  {
   "cell_type": "code",
   "execution_count": null,
   "id": "350a9653-df7f-49c8-b6ad-af2bd2079175",
   "metadata": {
    "tags": []
   },
   "outputs": [],
   "source": [
    "import sys\n",
    "sys.path.insert(0, '..')\n",
    "from sklearn import datasets\n",
    "import numpy as np"
   ]
  },
  {
   "cell_type": "code",
   "execution_count": null,
   "id": "495bdf64-0bb3-4856-989d-de65b4b1d4da",
   "metadata": {
    "tags": []
   },
   "outputs": [],
   "source": [
    "iris = datasets.load_iris() #iris data set in a dictionary. \n",
    "X = iris.data[:, [2, 3]] #petal length and petal width\n",
    "y = iris.target #flower species\n",
    "\n",
    "print('Class labels:', np.unique(y))"
   ]
  },
  {
   "cell_type": "code",
   "execution_count": null,
   "id": "3c0cd905-05a8-4866-8bd2-1715b05a26fd",
   "metadata": {
    "tags": []
   },
   "outputs": [],
   "source": [
    "iris.keys()"
   ]
  },
  {
   "cell_type": "code",
   "execution_count": null,
   "id": "79534b2e-4017-45d8-8ff0-811b07452810",
   "metadata": {
    "tags": []
   },
   "outputs": [],
   "source": [
    "iris.feature_names[2:4]"
   ]
  },
  {
   "cell_type": "code",
   "execution_count": null,
   "id": "ed48b4df-8bfb-4f27-b878-3c07a679d6e9",
   "metadata": {
    "tags": []
   },
   "outputs": [],
   "source": [
    "iris.target_names #Class labels: [0 1 2]"
   ]
  },
  {
   "cell_type": "code",
   "execution_count": null,
   "id": "2a815f9c-a06a-4565-afad-abe81b1fb3a2",
   "metadata": {
    "tags": []
   },
   "outputs": [],
   "source": [
    "from sklearn.model_selection import train_test_split\n",
    "\n",
    "#split 70% training 30% test\n",
    "X_train, X_test, y_train, y_test = train_test_split(\n",
    "    X, y, test_size=0.3, random_state=1, stratify=y)"
   ]
  },
  {
   "cell_type": "code",
   "execution_count": null,
   "id": "b8e5ecda-7f61-4d49-b8ff-cd96a40a04b8",
   "metadata": {
    "tags": []
   },
   "outputs": [],
   "source": [
    "#standardize - helps gradient descent converge faster\n",
    "from sklearn.preprocessing import StandardScaler\n",
    "# z = (x-u)/s\n",
    "# u is the mean, s is the standard deviation\n",
    "sc = StandardScaler()\n",
    "sc.fit(X_train)\n",
    "X_train_std = sc.transform(X_train)\n",
    "X_test_std = sc.transform(X_test)"
   ]
  },
  {
   "cell_type": "code",
   "execution_count": null,
   "id": "14caf5a3-a497-4ab9-a04a-32c178a193e3",
   "metadata": {
    "tags": []
   },
   "outputs": [],
   "source": [
    "# checking standard scalar match for sanity\n",
    "X_train[0]"
   ]
  },
  {
   "cell_type": "code",
   "execution_count": null,
   "id": "a7f95537-9fb5-4471-a207-a3e7c6d6491f",
   "metadata": {
    "tags": []
   },
   "outputs": [],
   "source": [
    "avg = np.average([x[0] for x in X_train])\n",
    "std = np.std([x[0] for x in X_train])"
   ]
  },
  {
   "cell_type": "code",
   "execution_count": null,
   "id": "d1a4fbef-5d36-43fb-ab41-5ceb552428be",
   "metadata": {
    "tags": []
   },
   "outputs": [],
   "source": [
    "(X_train[0][0]-avg)/std"
   ]
  },
  {
   "cell_type": "code",
   "execution_count": null,
   "id": "4af9ceb6-90b0-4efb-bb52-61e19c2565a9",
   "metadata": {
    "tags": []
   },
   "outputs": [],
   "source": [
    "X_train_std[0][0]"
   ]
  },
  {
   "cell_type": "code",
   "execution_count": null,
   "id": "4bfc62a4-d6d1-424a-9597-4c9b2e5f06c5",
   "metadata": {
    "tags": []
   },
   "outputs": [],
   "source": [
    "#train perceptron\n",
    "from sklearn.linear_model import Perceptron\n",
    "\n",
    "ppn = Perceptron(eta0=0.1, random_state=1)\n",
    "ppn.fit(X_train_std, y_train)"
   ]
  },
  {
   "cell_type": "code",
   "execution_count": null,
   "id": "cc2c560e-57df-4a2b-871a-0e31ba816e6d",
   "metadata": {
    "tags": []
   },
   "outputs": [],
   "source": [
    "y_pred = ppn.predict(X_test_std)\n",
    "print('Misclassified examples: %d' % (y_test != y_pred).sum())"
   ]
  },
  {
   "cell_type": "code",
   "execution_count": null,
   "id": "3eb7dc22-9ac3-4fe2-91fe-b577756909da",
   "metadata": {
    "tags": []
   },
   "outputs": [],
   "source": [
    "len(X_test_std) == len(y_pred)"
   ]
  },
  {
   "cell_type": "code",
   "execution_count": null,
   "id": "8cb2a095-04a8-4230-80b5-08ca8b3fa88d",
   "metadata": {
    "tags": []
   },
   "outputs": [],
   "source": [
    "y_pred"
   ]
  },
  {
   "cell_type": "code",
   "execution_count": null,
   "id": "da7c0589-b5f1-4b80-885a-8c7cf83cf4ba",
   "metadata": {
    "tags": []
   },
   "outputs": [],
   "source": [
    "y_test"
   ]
  },
  {
   "cell_type": "code",
   "execution_count": null,
   "id": "587d47e4-cc01-450b-9907-a114cb0c643e",
   "metadata": {
    "tags": []
   },
   "outputs": [],
   "source": [
    "from sklearn.metrics import accuracy_score\n",
    "\n",
    "#y_test is true set\n",
    "#y_pred is predicted class labels\n",
    "print('Accuracy: %.3f' % accuracy_score(y_test, y_pred)) #1-error = 1-0.022"
   ]
  },
  {
   "cell_type": "code",
   "execution_count": null,
   "id": "5a9a8bfa-582a-40a0-af81-436757fa17d8",
   "metadata": {
    "tags": []
   },
   "outputs": [],
   "source": [
    "print('Accuracy: %.3f' % ppn.score(X_test_std, y_test))"
   ]
  },
  {
   "cell_type": "code",
   "execution_count": null,
   "id": "0c090eb3-d177-49ed-8a34-6c2a0f4f0334",
   "metadata": {
    "tags": []
   },
   "outputs": [],
   "source": [
    "from matplotlib.colors import ListedColormap\n",
    "import matplotlib.pyplot as plt\n",
    "\n",
    "# To check recent matplotlib compatibility\n",
    "import matplotlib\n",
    "from distutils.version import LooseVersion\n",
    "\n",
    "\n",
    "def plot_decision_regions(X, y, classifier, test_idx=None, resolution=0.02):\n",
    "\n",
    "    # setup marker generator and color map\n",
    "    markers = ('o', 's', '^', 'v', '<')\n",
    "    colors = ('red', 'blue', 'lightgreen', 'gray', 'cyan')\n",
    "    cmap = ListedColormap(colors[:len(np.unique(y))])\n",
    "\n",
    "    # plot the decision surface\n",
    "    x1_min, x1_max = X[:, 0].min() - 1, X[:, 0].max() + 1 #get x bounds (-2.55, 2.73) petal length\n",
    "    x2_min, x2_max = X[:, 1].min() - 1, X[:, 1].max() + 1 # y bounds petal width\n",
    "    xx1, xx2 = np.meshgrid(np.arange(x1_min, x1_max, resolution),\n",
    "                           np.arange(x2_min, x2_max, resolution))\n",
    "    lab = classifier.predict(np.array([xx1.ravel(), xx2.ravel()]).T)\n",
    "    lab = lab.reshape(xx1.shape)\n",
    "    plt.contourf(xx1, xx2, lab, alpha=0.3, cmap=cmap)\n",
    "    plt.xlim(xx1.min(), xx1.max())\n",
    "    plt.ylim(xx2.min(), xx2.max())\n",
    "\n",
    "    # plot class examples\n",
    "    for idx, cl in enumerate(np.unique(y)):\n",
    "        plt.scatter(x=X[y == cl, 0], \n",
    "                    y=X[y == cl, 1],\n",
    "                    alpha=0.8, \n",
    "                    c=colors[idx],\n",
    "                    marker=markers[idx], \n",
    "                    label=f'Class {cl}', \n",
    "                    edgecolor='black')\n",
    "\n",
    "    # highlight test examples\n",
    "    if test_idx:\n",
    "        # plot all examples\n",
    "        X_test, y_test = X[test_idx, :], y[test_idx]\n",
    "\n",
    "        plt.scatter(X_test[:, 0],\n",
    "                    X_test[:, 1],\n",
    "                    c='none',\n",
    "                    edgecolor='black',\n",
    "                    alpha=1.0,\n",
    "                    linewidth=1,\n",
    "                    marker='o',\n",
    "                    s=100, \n",
    "                    label='Test set')     "
   ]
  },
  {
   "cell_type": "code",
   "execution_count": null,
   "id": "b10990e4-eb88-4201-8c39-ca3ae4d5466c",
   "metadata": {
    "tags": []
   },
   "outputs": [],
   "source": [
    "X_combined_std = np.vstack((X_train_std, X_test_std))\n",
    "y_combined = np.hstack((y_train, y_test))\n",
    "\n",
    "plot_decision_regions(X=X_combined_std, y=y_combined,\n",
    "                      classifier=ppn, test_idx=range(105, 150))\n",
    "plt.xlabel('Petal length [standardized]')\n",
    "plt.ylabel('Petal width [standardized]')\n",
    "plt.legend(loc='upper left')\n",
    "\n",
    "plt.tight_layout()\n",
    "#plt.savefig('figures/03_01.png', dpi=300)\n",
    "plt.show()"
   ]
  },
  {
   "cell_type": "code",
   "execution_count": null,
   "id": "56dc8619-00e5-4982-ac0f-55af1ad13732",
   "metadata": {
    "tags": []
   },
   "outputs": [],
   "source": [
    "import matplotlib.pyplot as plt\n",
    "import numpy as np\n",
    "\n",
    "\n",
    "def sigmoid(z):\n",
    "    return 1.0 / (1.0 + np.exp(-z))\n",
    "\n",
    "z = np.arange(-7, 7, 0.1)\n",
    "sigma_z = sigmoid(z)\n",
    "\n",
    "plt.plot(z, sigma_z)\n",
    "plt.axvline(0.0, color='k')\n",
    "plt.ylim(-0.1, 1.1)\n",
    "plt.xlabel('z')\n",
    "plt.ylabel('$\\sigma (z)$')\n",
    "\n",
    "# y axis ticks and gridline\n",
    "plt.yticks([0.0, 0.5, 1.0])\n",
    "ax = plt.gca()\n",
    "ax.yaxis.grid(True)\n",
    "\n",
    "plt.tight_layout()\n",
    "#plt.savefig('figures/03_02.png', dpi=300)\n",
    "plt.show()"
   ]
  },
  {
   "cell_type": "code",
   "execution_count": null,
   "id": "64be9c8b-eb54-4311-9ca0-dc34521d5034",
   "metadata": {},
   "outputs": [],
   "source": []
  }
 ],
 "metadata": {
  "kernelspec": {
   "display_name": "Python 3 (ipykernel)",
   "language": "python",
   "name": "python3"
  },
  "language_info": {
   "codemirror_mode": {
    "name": "ipython",
    "version": 3
   },
   "file_extension": ".py",
   "mimetype": "text/x-python",
   "name": "python",
   "nbconvert_exporter": "python",
   "pygments_lexer": "ipython3",
   "version": "3.9.0"
  }
 },
 "nbformat": 4,
 "nbformat_minor": 5
}
